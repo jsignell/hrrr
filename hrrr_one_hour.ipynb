{
 "cells": [
  {
   "cell_type": "code",
   "execution_count": null,
   "id": "49f6dd5b-b69e-4e21-9dba-2f7548a4ff61",
   "metadata": {},
   "outputs": [],
   "source": [
    "import fsspec\n",
    "\n",
    "import datetime as dt\n",
    "import xarray as xr"
   ]
  },
  {
   "cell_type": "code",
   "execution_count": null,
   "id": "e5a358b1-5c55-4a21-8865-90e46054f679",
   "metadata": {},
   "outputs": [],
   "source": [
    "fs = fsspec.filesystem('s3', anon=True, skip_instance_cache=True)\n",
    "\n",
    "today_files = fs.glob(\n",
    "    f's3://noaa-hrrr-bdp-pds/hrrr.{dt.datetime.utcnow():%Y%m%d}/conus/*wrfsfcf01.grib2'\n",
    ")\n",
    "last_file = today_files[-1]\n",
    "last_file"
   ]
  },
  {
   "cell_type": "code",
   "execution_count": null,
   "id": "25d81b60-619f-47fe-8824-31c920cabeff",
   "metadata": {},
   "outputs": [],
   "source": [
    "file = fsspec.open_local(\n",
    "    f\"simplecache::s3://{last_file}\",\n",
    "    s3={'anon': True}, \n",
    "    filecache={'cache_storage':'/tmp/files'}\n",
    ")\n",
    "file"
   ]
  },
  {
   "cell_type": "code",
   "execution_count": null,
   "id": "736a67d7-7d72-4d3a-820b-0cdbb10be720",
   "metadata": {},
   "outputs": [],
   "source": [
    "ds = xr.open_dataset(\n",
    "    file, \n",
    "    engine=\"cfgrib\", \n",
    "    filter_by_keys={'typeOfLevel': 'heightAboveGround', 'level': 2} \n",
    ")\n",
    "ds"
   ]
  },
  {
   "cell_type": "code",
   "execution_count": null,
   "id": "3564bec3-9482-467c-b36d-f0faa19a95cf",
   "metadata": {},
   "outputs": [],
   "source": [
    "ds.t2m.plot(cmap=\"turbo\", figsize=(12, 8))"
   ]
  }
 ],
 "metadata": {
  "kernelspec": {
   "display_name": "Python 3 (ipykernel)",
   "language": "python",
   "name": "python3"
  },
  "language_info": {
   "codemirror_mode": {
    "name": "ipython",
    "version": 3
   },
   "file_extension": ".py",
   "mimetype": "text/x-python",
   "name": "python",
   "nbconvert_exporter": "python",
   "pygments_lexer": "ipython3",
   "version": "3.8.12"
  }
 },
 "nbformat": 4,
 "nbformat_minor": 5
}
