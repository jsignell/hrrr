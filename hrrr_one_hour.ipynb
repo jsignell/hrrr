{
 "cells": [
  {
   "cell_type": "markdown",
   "id": "86ba26b5-4d36-4c1e-bd85-7a06d41fb54a",
   "metadata": {},
   "source": [
    "# HRRR Forecast - one hour\n",
    "This notebook demonstrates how to access one GRIB2 file in xarray. "
   ]
  },
  {
   "cell_type": "code",
   "execution_count": null,
   "id": "49f6dd5b-b69e-4e21-9dba-2f7548a4ff61",
   "metadata": {},
   "outputs": [],
   "source": [
    "import warnings\n",
    "import fsspec\n",
    "\n",
    "import datetime as dt\n",
    "import xarray as xr\n",
    "import hvplot.xarray  # noqa\n",
    "\n",
    "warnings.filterwarnings(\"ignore\")"
   ]
  },
  {
   "cell_type": "code",
   "execution_count": null,
   "id": "e5a358b1-5c55-4a21-8865-90e46054f679",
   "metadata": {},
   "outputs": [],
   "source": [
    "fs = fsspec.filesystem(\"s3\", anon=True, skip_instance_cache=True)\n",
    "\n",
    "today_files = fs.glob(\n",
    "    f\"s3://noaa-hrrr-bdp-pds/hrrr.{dt.datetime.utcnow():%Y%m%d}/conus/*wrfsfcf01.grib2\"\n",
    ")\n",
    "last_file = today_files[-1]\n",
    "last_file"
   ]
  },
  {
   "cell_type": "code",
   "execution_count": null,
   "id": "25d81b60-619f-47fe-8824-31c920cabeff",
   "metadata": {},
   "outputs": [],
   "source": [
    "file = fsspec.open_local(\n",
    "    f\"simplecache::s3://{last_file}\",\n",
    "    s3={\"anon\": True},\n",
    "    filecache={\"cache_storage\": \"/tmp/files\"},\n",
    ")\n",
    "file"
   ]
  },
  {
   "cell_type": "code",
   "execution_count": null,
   "id": "736a67d7-7d72-4d3a-820b-0cdbb10be720",
   "metadata": {},
   "outputs": [],
   "source": [
    "ds = xr.open_dataset(\n",
    "    file,\n",
    "    engine=\"cfgrib\",\n",
    "    filter_by_keys={\"typeOfLevel\": \"heightAboveGround\", \"level\": 2},\n",
    ")\n",
    "ds.t2m"
   ]
  },
  {
   "cell_type": "markdown",
   "id": "3e1a2541-7cd2-420b-abd5-ad6a5cefe887",
   "metadata": {},
   "source": [
    "Hvplot wants lon [-180,180], not [0,360]:"
   ]
  },
  {
   "cell_type": "code",
   "execution_count": null,
   "id": "cc0f0548-8551-4c90-93b4-6b6282e33f12",
   "metadata": {},
   "outputs": [],
   "source": [
    "ds = ds.assign_coords(longitude=(((ds.longitude + 180) % 360) - 180))"
   ]
  },
  {
   "cell_type": "code",
   "execution_count": null,
   "id": "3564bec3-9482-467c-b36d-f0faa19a95cf",
   "metadata": {},
   "outputs": [],
   "source": [
    "ds.t2m.hvplot.quadmesh(x=\"longitude\", y=\"latitude\", cmap=\"turbo\", rasterize=True, geo=True, tiles=\"OSM\")"
   ]
  },
  {
   "cell_type": "code",
   "execution_count": null,
   "id": "c42bc3cd-c272-430d-bedf-7e998de00f69",
   "metadata": {},
   "outputs": [],
   "source": []
  }
 ],
 "metadata": {
  "kernelspec": {
   "display_name": "Python 3 (ipykernel)",
   "language": "python",
   "name": "python3"
  },
  "language_info": {
   "codemirror_mode": {
    "name": "ipython",
    "version": 3
   },
   "file_extension": ".py",
   "mimetype": "text/x-python",
   "name": "python",
   "nbconvert_exporter": "python",
   "pygments_lexer": "ipython3",
   "version": "3.9.7"
  }
 },
 "nbformat": 4,
 "nbformat_minor": 5
}
