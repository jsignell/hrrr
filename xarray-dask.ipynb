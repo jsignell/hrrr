{
 "cells": [
  {
   "cell_type": "markdown",
   "id": "e2d1df6a-e779-4380-9243-a9567130d12b",
   "metadata": {},
   "source": [
    "# Xarray\n",
    "\n",
    "Get exactly the data you need, then aggregate or iteratively operate over that data.\n",
    "\n",
    "## What is Xarray?\n",
    "\n",
    "Xarray provides a container for accessing metadata right alongside data. \n",
    "\n",
    "![dataset-diagram](images/dataset-diagram.png)\n",
    "\n",
    "Metadata can include:\n",
    " - arrays of index values (coordinates)\n",
    " - units\n",
    " - projection info\n",
    " - origin of data and processing history"
   ]
  },
  {
   "cell_type": "code",
   "execution_count": null,
   "id": "c8551811-f452-4200-8605-6879ace0d4f1",
   "metadata": {
    "tags": []
   },
   "outputs": [],
   "source": [
    "import xarray as xr"
   ]
  },
  {
   "cell_type": "code",
   "execution_count": null,
   "id": "6643402d-f3cf-46ab-ab84-eb8eba67eb01",
   "metadata": {
    "tags": []
   },
   "outputs": [],
   "source": [
    "ds = xr.open_dataset(\"./tutorial-data/sst/NOAA_NCDC_ERSST_v3b_SST-1960.nc\")\n",
    "ds"
   ]
  },
  {
   "cell_type": "markdown",
   "id": "c24c3e3c-9397-44f7-8373-18a79d0755c1",
   "metadata": {},
   "source": [
    "## Subset data\n",
    "\n",
    "Get all the `sst` values for one particular time step. "
   ]
  },
  {
   "cell_type": "code",
   "execution_count": null,
   "id": "08048c05-4773-4943-9c62-958d809e845a",
   "metadata": {
    "tags": []
   },
   "outputs": [],
   "source": [
    "ds.sel(time=\"1960-12-15\").sst"
   ]
  },
  {
   "cell_type": "code",
   "execution_count": null,
   "id": "ecc6fb9d-6c08-4160-a02c-ced874c3c667",
   "metadata": {
    "tags": []
   },
   "outputs": [],
   "source": [
    "ds.sel(time=\"1960-12-15\").sst.plot()"
   ]
  },
  {
   "cell_type": "markdown",
   "id": "ff7dabe3-2c47-481b-9681-8ac35a2acdd7",
   "metadata": {},
   "source": [
    "Get all the `sst` values for one particular time step and region of interest. "
   ]
  },
  {
   "cell_type": "code",
   "execution_count": null,
   "id": "626186cb-9b16-4bc6-b6fc-b4b30710015b",
   "metadata": {
    "tags": []
   },
   "outputs": [],
   "source": [
    "ds.sel(lat=slice(0, 60), lon=slice(220, 300), time=\"1960-12-15\").sst.plot()"
   ]
  },
  {
   "cell_type": "markdown",
   "id": "366b4338-8b64-4bd0-ae57-509d230ca9e3",
   "metadata": {},
   "source": [
    "## Aggregate\n",
    "\n",
    "Aggregate data across labeled dimensions."
   ]
  },
  {
   "cell_type": "code",
   "execution_count": null,
   "id": "aa46af33-daf3-427d-b2b0-69ea7b4117ae",
   "metadata": {},
   "outputs": [],
   "source": [
    "ds.sst.mean(dim=\"lon\").plot(x=\"time\", y=\"lat\")"
   ]
  },
  {
   "cell_type": "markdown",
   "id": "56e81802-f485-4861-9a66-a4acb1404256",
   "metadata": {},
   "source": [
    "Aggregate across several dimentions at once. "
   ]
  },
  {
   "cell_type": "code",
   "execution_count": null,
   "id": "991dacb8-419f-47e3-86c0-9f825c5778ac",
   "metadata": {},
   "outputs": [],
   "source": [
    "ds.sst.std(dim=(\"time\", \"lon\")).plot(y=\"lat\")"
   ]
  },
  {
   "cell_type": "markdown",
   "id": "228ff585-a1a6-4791-80c8-09f21ac76237",
   "metadata": {},
   "source": [
    "# Dask\n",
    "\n",
    "Work with data that doesn't fit in memory and finish computations more quickly.\n",
    "\n",
    "## What is Dask?\n",
    "\n",
    "Dask delays, optimizes, parallizes and distributes computations. Instead of computing as soon as you execute a line of code, Dask custructs a task graph. That task graph keeps getting added to until you trigger computation.\n",
    "\n",
    "Xarray uses Dask internally to store references to the data so that it can be accessed chunk by chunk. \n",
    "\n",
    "![Dask array](images/dask-array-black-text.png)\n",
    "\n",
    "**NOTE**: Xarray uses Dask implicitly, so you don't have to import anything other than `xarray` to use Dask with Xarray.\n",
    "\n",
    "We'll start by reading in the data for all the years"
   ]
  },
  {
   "cell_type": "code",
   "execution_count": null,
   "id": "8b4580d1-6659-4e19-a7b9-3b7ad5113c0c",
   "metadata": {},
   "outputs": [],
   "source": [
    "ds_all = xr.open_mfdataset(\"./tutorial-data/sst/*nc\")\n",
    "ds_all"
   ]
  },
  {
   "cell_type": "markdown",
   "id": "093a170f-84fe-47dc-ad00-1006fbf54900",
   "metadata": {},
   "source": [
    "## Subset data\n",
    "\n",
    "Get all the `sst` values for one particular time step. "
   ]
  },
  {
   "cell_type": "code",
   "execution_count": null,
   "id": "77107e08-580a-4cbd-8c3e-321128f9aaf5",
   "metadata": {},
   "outputs": [],
   "source": [
    "ds_all.sel(time=\"2016-12-15\").sst"
   ]
  },
  {
   "cell_type": "markdown",
   "id": "91417436-e7ac-4eaf-aabe-8fd8f6f44106",
   "metadata": {},
   "source": [
    "If you access the data within this Xarray object, you'll see that it is a Dask array."
   ]
  },
  {
   "cell_type": "code",
   "execution_count": null,
   "id": "181a0852-2542-42f6-8bcb-84d44b10f6e4",
   "metadata": {},
   "outputs": [],
   "source": [
    "ds_all.sel(time=\"2016-12-15\").sst.data"
   ]
  },
  {
   "cell_type": "markdown",
   "id": "251888e7-6474-461f-a1f6-8263b66d7a21",
   "metadata": {
    "tags": []
   },
   "source": [
    "### How to get results\n",
    "\n",
    "Dask arrays have the special attribute: `dask`, and the special methods: `visualize`, `persist` and `compute`. `dask` and `visualize` are useful for gaining understanding. We'll discuss them more later on.\n",
    "\n",
    "You can trigger computation:\n",
    " - **explicitly**: using `persist` or `compute`, or \n",
    " - **implicitly**: using `plot`, `to_zarr`, `to_netcdf`..."
   ]
  },
  {
   "cell_type": "code",
   "execution_count": null,
   "id": "1360d50a-2ba2-416d-9584-33977844555b",
   "metadata": {
    "tags": []
   },
   "outputs": [],
   "source": [
    "ds_all.sel(time=\"2016-12-15\").sst.compute()"
   ]
  },
  {
   "cell_type": "markdown",
   "id": "d05c67e1-d5e3-47c5-b2a0-3efdee0ff220",
   "metadata": {},
   "source": [
    "Persist triggers compuation, but instead of pulling all the data into the notebook, it replaces the means to get the data, with the data itself. Persisting can be very powerful, expecially when you are doing multiple operations on a dataset after some kind of subsetting."
   ]
  },
  {
   "cell_type": "code",
   "execution_count": null,
   "id": "acc46e96-5860-4cf1-8d34-7293142eff31",
   "metadata": {},
   "outputs": [],
   "source": [
    "ds_all.sel(time=\"2016-12-15\").sst.persist()"
   ]
  },
  {
   "cell_type": "code",
   "execution_count": null,
   "id": "dabeff5d-8969-46d7-9f50-f8ceec881e3c",
   "metadata": {},
   "outputs": [],
   "source": [
    "ds_all.sel(time=\"2016-12-15\").sst.persist().data.dask"
   ]
  },
  {
   "cell_type": "markdown",
   "id": "3a1797e5-e523-4cb9-ac28-9d89b90602bd",
   "metadata": {},
   "source": [
    "## Aggregate\n",
    "\n",
    "Aggregate data across labeled dimensions. Notice that `plot` is another way to trigger computation."
   ]
  },
  {
   "cell_type": "code",
   "execution_count": null,
   "id": "5b86b2e1-09a1-4eae-bb05-3a2e34966489",
   "metadata": {},
   "outputs": [],
   "source": [
    "ds_all.sst.mean(dim=\"lon\").plot(x=\"time\", y=\"lat\", figsize=(20, 4))"
   ]
  },
  {
   "cell_type": "markdown",
   "id": "85160a16-783d-46d0-a73e-742b3f49fae1",
   "metadata": {},
   "source": [
    "## Groupby\n",
    "\n",
    "Xarray has special time-handling notation for doing groupbys."
   ]
  },
  {
   "cell_type": "code",
   "execution_count": null,
   "id": "a2f608d9-044f-4d64-bc85-60343c24f26e",
   "metadata": {},
   "outputs": [],
   "source": [
    "sst_clim = ds_all.sst.groupby(\"time.month\").mean(dim=\"time\")\n",
    "sst_clim"
   ]
  },
  {
   "cell_type": "markdown",
   "id": "f7b5b1b2-374e-4d60-848d-90eb0b4594eb",
   "metadata": {},
   "source": [
    "Each group represents one month, so we can get the difference between July and January by selecting those months and subtracting one from the other."
   ]
  },
  {
   "cell_type": "code",
   "execution_count": null,
   "id": "5f764db3-074f-410a-9c08-60e646b8e544",
   "metadata": {},
   "outputs": [],
   "source": [
    "(sst_clim[7] - sst_clim[0]).plot()"
   ]
  },
  {
   "cell_type": "markdown",
   "id": "d2f56c82-5553-42be-ba58-6f98e1d0a0db",
   "metadata": {},
   "source": [
    "## Resample\n",
    "\n",
    "Resample uses similar methods to pandas where we can choose from a list of defined timesteps. In this case we resample using an annual time-step (`A`)"
   ]
  },
  {
   "cell_type": "code",
   "execution_count": null,
   "id": "13794dd1-85ad-4d95-b702-19ba46afdfaa",
   "metadata": {},
   "outputs": [],
   "source": [
    "sst_ts = ds_all.sst.sel(lon=275, lat=30, method=\"nearest\")\n",
    "sst_ts.resample(time=\"A\").mean(dim=\"time\")"
   ]
  },
  {
   "cell_type": "code",
   "execution_count": null,
   "id": "483dfe85-ab42-480a-88de-d000544296e2",
   "metadata": {},
   "outputs": [],
   "source": [
    "# note that this is equivalent to doing a groupby on year.\n",
    "sst_ts.groupby(\"time.year\").mean(dim=\"time\")"
   ]
  },
  {
   "cell_type": "code",
   "execution_count": null,
   "id": "3b8e5990-4a18-42bc-9a80-078a5f7fd46a",
   "metadata": {},
   "outputs": [],
   "source": [
    "sst_ts.resample(time=\"A\").mean(dim=\"time\").plot()"
   ]
  },
  {
   "cell_type": "markdown",
   "id": "7e2d7833-14a2-423c-b51c-3bf5ea11b1c5",
   "metadata": {
    "tags": []
   },
   "source": [
    "### What is Dask doing?\n",
    "\n",
    "We talked about how Dask is lazy. It doesn't do any computation until it needs to. It just sets up a task graph. Now let's look at those task graphs a bit more."
   ]
  },
  {
   "cell_type": "code",
   "execution_count": null,
   "id": "48d83b67-075a-4a05-bd9a-2aee913c342a",
   "metadata": {},
   "outputs": [],
   "source": [
    "sst_ts.resample(time=\"A\").mean(dim=\"time\").data.visualize(optimize_graph=True)"
   ]
  },
  {
   "cell_type": "code",
   "execution_count": null,
   "id": "2892dbbd-f7ca-48d2-ab39-590a97cc056f",
   "metadata": {},
   "outputs": [],
   "source": [
    "sst_ts.resample(time=\"A\").mean(dim=\"time\").min().data.visualize(optimize_graph=True)"
   ]
  },
  {
   "cell_type": "code",
   "execution_count": null,
   "id": "06f6158c-0d74-4227-9137-e9e48f7cd243",
   "metadata": {},
   "outputs": [],
   "source": [
    "sst_ts.sel(time=\"2016\").resample(time=\"A\").mean(dim=\"time\").data.visualize(optimize_graph=True)"
   ]
  },
  {
   "cell_type": "markdown",
   "id": "b6181957-df3e-4041-86c2-e9b40184ac6f",
   "metadata": {},
   "source": [
    "## Distribute computations\n",
    "\n",
    "So far we have been focussing on how regular xarray operations chain together to create a task graph. This is the middle part of the image below:\n",
    "\n",
    "<img src=images/dask-overview.png padding=-500px/>\n",
    "\n",
    "Until you trigger computation, Dask just keeps adding layers to the task graph. But once you call `.plot` or `.persist` or `.compute`, that task graph gets sent to the scheduler for execution."
   ]
  },
  {
   "cell_type": "code",
   "execution_count": null,
   "id": "cd65ef14-68b8-4747-b0ac-4ff6344c205b",
   "metadata": {},
   "outputs": [],
   "source": [
    "from dask.distributed import Client, LocalCluster\n",
    "\n",
    "cluster = (LocalCluster())  # in practice this might be a kubernetes cluster, or a slurm cluster\n",
    "client = Client(cluster)\n",
    "client"
   ]
  },
  {
   "cell_type": "markdown",
   "id": "9f6682d8-ff1d-41c1-a4ee-2595e0e85f45",
   "metadata": {},
   "source": [
    "In the notebook, you interact with the `client`. The `client` sends task graphs to the `cluster`. Within the `cluster` there is one `scheduler` and many `workers`. The scheduler is in charge of optimizing the task graph, assigning tasks to partular workers and collecting results.\n",
    "\n",
    "![Distributed overview](images/distributed-overview.png)"
   ]
  },
  {
   "cell_type": "markdown",
   "id": "3c967890-b77a-47cf-b6fa-091a0ea63c2a",
   "metadata": {},
   "source": [
    "### Diagnostics Dashboard\n",
    "\n",
    "If you have a `client`, then you can see what Dask is up to by checking out the dashboard. "
   ]
  },
  {
   "cell_type": "code",
   "execution_count": null,
   "id": "047932fe-2ee4-4f2f-9b62-9c7f8773efc2",
   "metadata": {},
   "outputs": [],
   "source": [
    "sst_ts.groupby(\"time.year\").mean(dim=\"time\").compute()"
   ]
  },
  {
   "cell_type": "markdown",
   "id": "82bb4ba6-c2b5-4c82-9240-c36eb0569529",
   "metadata": {},
   "source": [
    "# Best Practices\n",
    "\n",
    "- Use cloud-optimized file formats\n",
    "- Subset data as early as possible in computation\n",
    "- Consider chunksize and if you need to rechunk, use `persist` or save a different representation. \n",
    "    - Consider using dedicated tooling such as [kerchunk](https://github.com/fsspec/kerchunk).\n",
    "- If you have multiple outputs, use `dask.compute` to combine multiple task graphs."
   ]
  },
  {
   "cell_type": "markdown",
   "id": "c2f631c2-723b-40ff-b255-77a9cd5f7062",
   "metadata": {},
   "source": [
    "# Resources\n",
    "\n",
    "This notebook borrows heavily from the Pangeo Xarray Tutorial, so that one will look familiar, but the original contains more detail and explanation. \n",
    "\n",
    "- [Pangeo Xarray Tutorial](http://gallery.pangeo.io/repos/pangeo-data/pangeo-tutorial-gallery/xarray.html)\n",
    "- [Pangeo Dask Tutorial](http://gallery.pangeo.io/repos/pangeo-data/pangeo-tutorial-gallery/dask.html)"
   ]
  }
 ],
 "metadata": {
  "kernelspec": {
   "display_name": "Python 3 (ipykernel)",
   "language": "python",
   "name": "python3"
  },
  "language_info": {
   "codemirror_mode": {
    "name": "ipython",
    "version": 3
   },
   "file_extension": ".py",
   "mimetype": "text/x-python",
   "name": "python",
   "nbconvert_exporter": "python",
   "pygments_lexer": "ipython3",
   "version": "3.9.7"
  },
  "toc-autonumbering": false,
  "toc-showcode": false,
  "toc-showmarkdowntxt": false,
  "toc-showtags": false
 },
 "nbformat": 4,
 "nbformat_minor": 5
}
