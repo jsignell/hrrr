{
 "cells": [
  {
   "cell_type": "markdown",
   "id": "e2d1df6a-e779-4380-9243-a9567130d12b",
   "metadata": {},
   "source": [
    "# Xarray\n",
    "\n",
    "Get exactly the data you need, then aggregate or iteratively operate over that data.\n",
    "\n",
    "## What is Xarray?\n",
    "\n",
    "Xarray provides a container for accessing metadata right alongside data. \n",
    "\n",
    "![dataset-diagram](images/dataset-diagram.png)\n",
    "\n",
    "Metadata can include:\n",
    " - arrays of index values (coordinates \n",
    " - units\n",
    " - projection info\n",
    " - origin of data and processing history\n",
    " \n"
   ]
  },
  {
   "cell_type": "code",
   "execution_count": null,
   "id": "c8551811-f452-4200-8605-6879ace0d4f1",
   "metadata": {},
   "outputs": [],
   "source": [
    "import xarray as xr"
   ]
  },
  {
   "cell_type": "code",
   "execution_count": null,
   "id": "6643402d-f3cf-46ab-ab84-eb8eba67eb01",
   "metadata": {},
   "outputs": [],
   "source": [
    "ds = xr.open_dataset('./tutorial-data/sst/NOAA_NCDC_ERSST_v3b_SST-1960.nc')\n",
    "ds"
   ]
  },
  {
   "cell_type": "markdown",
   "id": "c24c3e3c-9397-44f7-8373-18a79d0755c1",
   "metadata": {},
   "source": [
    "## Subset data\n",
    "\n",
    "Get all the `sst` values for one particular time step. "
   ]
  },
  {
   "cell_type": "code",
   "execution_count": null,
   "id": "08048c05-4773-4943-9c62-958d809e845a",
   "metadata": {},
   "outputs": [],
   "source": [
    "ds.sel(time=\"1960-12-15\").sst"
   ]
  },
  {
   "cell_type": "code",
   "execution_count": null,
   "id": "ecc6fb9d-6c08-4160-a02c-ced874c3c667",
   "metadata": {},
   "outputs": [],
   "source": [
    "ds.sel(time=\"1960-12-15\").sst.plot()"
   ]
  },
  {
   "cell_type": "code",
   "execution_count": null,
   "id": "626186cb-9b16-4bc6-b6fc-b4b30710015b",
   "metadata": {},
   "outputs": [],
   "source": [
    "ds.sel(lat=slice(0, 60), lon=slice(230, 300), time=\"1960-12-15\").sst.plot()"
   ]
  },
  {
   "cell_type": "markdown",
   "id": "366b4338-8b64-4bd0-ae57-509d230ca9e3",
   "metadata": {},
   "source": [
    "## Aggregate"
   ]
  },
  {
   "cell_type": "code",
   "execution_count": null,
   "id": "aa46af33-daf3-427d-b2b0-69ea7b4117ae",
   "metadata": {},
   "outputs": [],
   "source": [
    "ds.sst.mean(dim='lon').plot(x=\"time\", y=\"lat\")"
   ]
  },
  {
   "cell_type": "code",
   "execution_count": null,
   "id": "991dacb8-419f-47e3-86c0-9f825c5778ac",
   "metadata": {},
   "outputs": [],
   "source": [
    "ds.sst.std(dim=('time', 'lon')).plot()"
   ]
  },
  {
   "cell_type": "markdown",
   "id": "228ff585-a1a6-4791-80c8-09f21ac76237",
   "metadata": {},
   "source": [
    "# Dask\n",
    "\n",
    "Work with data that doesn't fit in memory and finish computations more quickly.\n",
    "\n",
    "## What is Dask?\n",
    "\n",
    "Dask delays, optimizes, parallizes and distributes computations. Instead of computing as soon as you execute a line of code, Dask custructs a task graph. That task graph keeps getting added to until you trigger computation.\n",
    "\n",
    "Xarray uses Dask internally to store references to the data so that it can be accessed chunk by chunk. \n",
    "\n",
    "![Dask array](images/dask-array-black-text.png)"
   ]
  },
  {
   "cell_type": "code",
   "execution_count": null,
   "id": "8b4580d1-6659-4e19-a7b9-3b7ad5113c0c",
   "metadata": {},
   "outputs": [],
   "source": [
    "ds_all = xr.open_mfdataset('./tutorial-data/sst/*nc', combine='by_coords')\n",
    "ds_all"
   ]
  },
  {
   "cell_type": "markdown",
   "id": "093a170f-84fe-47dc-ad00-1006fbf54900",
   "metadata": {},
   "source": [
    "## Subset data\n",
    "\n",
    "Get all the `sst` values for one particular time step. "
   ]
  },
  {
   "cell_type": "code",
   "execution_count": null,
   "id": "77107e08-580a-4cbd-8c3e-321128f9aaf5",
   "metadata": {},
   "outputs": [],
   "source": [
    "ds_all.sel(time=\"2016-12-15\").sst"
   ]
  },
  {
   "cell_type": "markdown",
   "id": "91417436-e7ac-4eaf-aabe-8fd8f6f44106",
   "metadata": {},
   "source": [
    "If you access the data within this xarray object, you'll see that it is a Dask array."
   ]
  },
  {
   "cell_type": "code",
   "execution_count": null,
   "id": "181a0852-2542-42f6-8bcb-84d44b10f6e4",
   "metadata": {},
   "outputs": [],
   "source": [
    "ds_all.sel(time=\"2016-12-15\").sst.data"
   ]
  },
  {
   "cell_type": "markdown",
   "id": "85160a16-783d-46d0-a73e-742b3f49fae1",
   "metadata": {},
   "source": [
    "## Groupby"
   ]
  },
  {
   "cell_type": "code",
   "execution_count": null,
   "id": "a2f608d9-044f-4d64-bc85-60343c24f26e",
   "metadata": {},
   "outputs": [],
   "source": [
    "sst_clim = ds_all.sst.groupby('time.month').mean(dim='time')\n",
    "sst_clim"
   ]
  },
  {
   "cell_type": "code",
   "execution_count": null,
   "id": "5f764db3-074f-410a-9c08-60e646b8e544",
   "metadata": {},
   "outputs": [],
   "source": [
    "(sst_clim[7] - sst_clim[0]).plot()"
   ]
  },
  {
   "cell_type": "markdown",
   "id": "d2f56c82-5553-42be-ba58-6f98e1d0a0db",
   "metadata": {},
   "source": [
    "## Resample"
   ]
  },
  {
   "cell_type": "code",
   "execution_count": null,
   "id": "13794dd1-85ad-4d95-b702-19ba46afdfaa",
   "metadata": {},
   "outputs": [],
   "source": [
    "sst_ts = ds_all.sst.sel(lon=275, lat=30, method=\"nearest\")\n",
    "sst_ts.resample(time='A').mean(dim='time')"
   ]
  },
  {
   "cell_type": "code",
   "execution_count": null,
   "id": "3b8e5990-4a18-42bc-9a80-078a5f7fd46a",
   "metadata": {},
   "outputs": [],
   "source": [
    "sst_ts.resample(time='A').mean(dim='time').plot()"
   ]
  },
  {
   "cell_type": "code",
   "execution_count": null,
   "id": "483dfe85-ab42-480a-88de-d000544296e2",
   "metadata": {},
   "outputs": [],
   "source": [
    "# note that this is equivalent to doing a groupby on year.\n",
    "sst_ts.groupby('time.year').mean(dim='time')"
   ]
  },
  {
   "cell_type": "markdown",
   "id": "b6181957-df3e-4041-86c2-e9b40184ac6f",
   "metadata": {},
   "source": [
    "## Distribute computations\n",
    "\n",
    "So far we have been focussing on how regular xarray operations chain together to create a task graph. This is the middle part of the image below:\n",
    "\n",
    "![Dask overview](images/dask-overview.png)\n",
    "\n",
    "Until you trigger computation, Dask just keeps adding layers to the task graph. But once you call `.plot` or `.persist` or `.compute`, that task graph gets sent to the scheduler for execution."
   ]
  },
  {
   "cell_type": "code",
   "execution_count": null,
   "id": "cd65ef14-68b8-4747-b0ac-4ff6344c205b",
   "metadata": {},
   "outputs": [],
   "source": [
    "from dask.distributed import Client, LocalCluster\n",
    "\n",
    "cluster = LocalCluster()  # in practice this might be a kubernetes cluster, or a slurm cluster\n",
    "client = Client(cluster)\n",
    "client"
   ]
  },
  {
   "cell_type": "markdown",
   "id": "9f6682d8-ff1d-41c1-a4ee-2595e0e85f45",
   "metadata": {},
   "source": [
    "In the notebook, you interact with the `client`. The `client` sends task graphs to the `cluster`. Within the `cluster` there is one `scheduler` and many`workers`. The scheduler is in charge of optimizing the task grpha, assigning tasks to partular workers and collecting results.\n",
    "\n",
    "![Distributed overview](images/distributed-overview.png)"
   ]
  },
  {
   "cell_type": "markdown",
   "id": "3c967890-b77a-47cf-b6fa-091a0ea63c2a",
   "metadata": {},
   "source": [
    "### Diagnostics Dashboard\n",
    "\n",
    "If you have a `client`, then you can see what Dask is up to by checking out the dashboard. "
   ]
  },
  {
   "cell_type": "code",
   "execution_count": null,
   "id": "047932fe-2ee4-4f2f-9b62-9c7f8773efc2",
   "metadata": {},
   "outputs": [],
   "source": [
    "sst_ts.groupby('time.year').mean(dim='time').compute()"
   ]
  },
  {
   "cell_type": "markdown",
   "id": "82bb4ba6-c2b5-4c82-9240-c36eb0569529",
   "metadata": {},
   "source": [
    "# Best Practices\n",
    "\n",
    "- Use cloud-optimized file formats\n",
    "- Subset data as early as possible in computation\n",
    "- Consider chunksize and if you need to rechunk, use `persist` or save a different representation. \n",
    "    - Consider using dedicated tooling such as [kerchunk](https://github.com/fsspec/kerchunk).\n",
    "- If you have multiple outputs, use `dask.compute` to combine multiple task graphs."
   ]
  },
  {
   "cell_type": "markdown",
   "id": "c2f631c2-723b-40ff-b255-77a9cd5f7062",
   "metadata": {},
   "source": [
    "# Resources\n",
    "\n",
    "This notebook borrows heavily from the Pangeo Xarray Tutorial, so that one will look familiar, but the original contains more detail and explanation. \n",
    "\n",
    "- [Pangeo Xarray Tutorial](http://gallery.pangeo.io/repos/pangeo-data/pangeo-tutorial-gallery/xarray.html)\n",
    "- [Pangeo Dask Tutorial](http://gallery.pangeo.io/repos/pangeo-data/pangeo-tutorial-gallery/dask.html)"
   ]
  }
 ],
 "metadata": {
  "kernelspec": {
   "display_name": "Python 3 (ipykernel)",
   "language": "python",
   "name": "python3"
  },
  "language_info": {
   "codemirror_mode": {
    "name": "ipython",
    "version": 3
   },
   "file_extension": ".py",
   "mimetype": "text/x-python",
   "name": "python",
   "nbconvert_exporter": "python",
   "pygments_lexer": "ipython3",
   "version": "3.8.12"
  }
 },
 "nbformat": 4,
 "nbformat_minor": 5
}
