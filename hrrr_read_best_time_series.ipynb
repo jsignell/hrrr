{
 "cells": [
  {
   "cell_type": "markdown",
   "id": "e9dfe0df-9f1a-4e5d-99d3-81f01a76d3c8",
   "metadata": {},
   "source": [
    "# HRRR Forecast Collection Best Time Series \n",
    "This notebook demonstrates how to access a collection of GRIB2 files as a single cloud-friendly dataset in xarray. \n",
    "\n",
    "We first use [kerchunk](https://github.com/fsspec/kerchunk) to create the JSON file that is then read by the zarr libaray using a referenceFileSystem created by fsspec.   \n"
   ]
  },
  {
   "cell_type": "code",
   "execution_count": null,
   "id": "9ac4c885-3e20-473b-aca5-63e611c181f9",
   "metadata": {},
   "outputs": [],
   "source": [
    "import xarray as xr\n",
    "import datetime as dt\n",
    "import pandas as pd\n",
    "import dask\n",
    "import json\n",
    "import fsspec\n",
    "from kerchunk.combine import MultiZarrToZarr"
   ]
  },
  {
   "cell_type": "markdown",
   "id": "fe306843-f0bc-4dae-9e6c-74a6c1a789e5",
   "metadata": {},
   "source": [
    "## Examine resulting dataset"
   ]
  },
  {
   "cell_type": "code",
   "execution_count": null,
   "id": "a6e1055e-bb20-49e1-8008-157e62827fa1",
   "metadata": {},
   "outputs": [],
   "source": [
    "fs = fsspec.filesystem(\n",
    "    \"reference\", \n",
    "    fo='s3://esip-qhub-public/noaa/hrrr/hrrr_best.json', \n",
    "    ref_storage_args={'requester_pays': True, 'skip_instance_cache': True},\n",
    "    remote_protocol='s3', \n",
    "    remote_options={'anon': True},\n",
    ")\n",
    "m = fs.get_mapper(\"\")\n",
    "ds2 = xr.open_dataset(\n",
    "    m, \n",
    "    engine=\"zarr\", \n",
    "    backend_kwargs={\"consolidated\": False}, \n",
    "    chunks={'valid_time':1},\n",
    ")"
   ]
  },
  {
   "cell_type": "code",
   "execution_count": null,
   "id": "baf91e48-4b4d-49ab-ae8a-e52c7458232c",
   "metadata": {},
   "outputs": [],
   "source": [
    "var='t2m'"
   ]
  },
  {
   "cell_type": "code",
   "execution_count": null,
   "id": "80f7ddb3-621d-48d7-93d9-a56e6f2ece60",
   "metadata": {},
   "outputs": [],
   "source": [
    "print(f'Size:{ds2[var].nbytes/1e9} GB')"
   ]
  },
  {
   "cell_type": "code",
   "execution_count": null,
   "id": "921439f7-1963-4ce1-a66d-06fa729937a5",
   "metadata": {},
   "outputs": [],
   "source": [
    "ds2[var]"
   ]
  },
  {
   "cell_type": "markdown",
   "id": "2199fcb9-3b85-47ea-80de-e80232c1e2ec",
   "metadata": {},
   "source": [
    "Hvplot wants lon [-180,180], not [0,360]:"
   ]
  },
  {
   "cell_type": "code",
   "execution_count": null,
   "id": "ad699973-8780-49ac-a7c0-7ce3f74a7147",
   "metadata": {},
   "outputs": [],
   "source": [
    "ds2 = ds2.assign_coords(longitude=(((ds2.longitude + 180) % 360) - 180))"
   ]
  },
  {
   "cell_type": "code",
   "execution_count": null,
   "id": "a408c1b6-06a9-43d3-b69a-1b73dc0d9a48",
   "metadata": {},
   "outputs": [],
   "source": [
    "now = dt.datetime.utcnow().strftime('%Y-%m-%d %H:00:00')\n",
    "print(now)"
   ]
  },
  {
   "cell_type": "markdown",
   "id": "95869e81-657b-4fb1-9553-b9197c92bbd1",
   "metadata": {},
   "source": [
    "With 30 worker cluster, takes 50 seconds to display, and 15 seconds to change the time step\n",
    "after closing the dask client, it takes 30 seconds to display, 8 seconds to display a time step"
   ]
  },
  {
   "cell_type": "code",
   "execution_count": null,
   "id": "171c7153-efb7-4aa0-acac-ec308a691f11",
   "metadata": {},
   "outputs": [],
   "source": [
    "ds2[var].sel(valid_time=now).hvplot.quadmesh(x='longitude', y='latitude', geo=True,\n",
    "                                                rasterize=True, cmap='turbo', title=now)"
   ]
  },
  {
   "cell_type": "markdown",
   "id": "81d3a95b-113b-44cc-883f-96cce3d75940",
   "metadata": {},
   "source": [
    "hvplot has a slider for time steps, but we want a dropdown list, so we use Panel.  Let's add a tile layer from Open Street Map also. "
   ]
  },
  {
   "cell_type": "code",
   "execution_count": null,
   "id": "2605c99a-e5f1-4ced-b1fa-d10cd29a563b",
   "metadata": {},
   "outputs": [],
   "source": [
    "extra_dims = list(ds2[var].dims[:-2])\n",
    "mesh = ds2[var].hvplot.quadmesh(x='longitude', y='latitude', rasterize=True, geo=True, tiles='OSM', cmap='turbo')\n",
    "pn.panel(mesh, widgets={k: pn.widgets.Select for k in extra_dims})"
   ]
  },
  {
   "cell_type": "markdown",
   "id": "5fa77bb5-1c95-46c6-a24d-79571b4165da",
   "metadata": {},
   "source": [
    "#### Extract a time series at a point\n",
    "We are reading GRIB2 files, which compress the entire spatial domain as a single chunk.  Therefore reading all the time values at a single point actually needs to load and uncompress *all* the data for that variable. "
   ]
  },
  {
   "cell_type": "code",
   "execution_count": null,
   "id": "7474541e-383a-4839-a4f2-da4e459a7619",
   "metadata": {},
   "outputs": [],
   "source": [
    "%%time\n",
    "ds2[var][:,500,500].hvplot(x='valid_time', grid=True)"
   ]
  },
  {
   "cell_type": "markdown",
   "id": "415f2f21-c67a-4c7a-9d3e-d7060af3b4d2",
   "metadata": {},
   "source": [
    "#### Compute the time-mean temperature over the entire dataset"
   ]
  },
  {
   "cell_type": "code",
   "execution_count": null,
   "id": "71bda28a-73d2-47ef-b505-8faa008924f6",
   "metadata": {},
   "outputs": [],
   "source": [
    "%%time\n",
    "da = ds2[var].mean(dim='valid_time').compute()"
   ]
  },
  {
   "cell_type": "code",
   "execution_count": null,
   "id": "668067cb-14ce-4357-9d24-fd24ac9cb9a8",
   "metadata": {},
   "outputs": [],
   "source": [
    "da.hvplot.quadmesh(x='longitude', y='latitude', rasterize=True, geo=True, tiles='OSM', cmap='turbo')"
   ]
  },
  {
   "cell_type": "markdown",
   "id": "7e30a8a6-ad1b-41e3-b77d-c9cf640f2cab",
   "metadata": {},
   "source": [
    "#### Close the client and shutdown the cluster"
   ]
  }
 ],
 "metadata": {
  "kernelspec": {
   "display_name": "Python 3 (ipykernel)",
   "language": "python",
   "name": "python3"
  },
  "language_info": {
   "codemirror_mode": {
    "name": "ipython",
    "version": 3
   },
   "file_extension": ".py",
   "mimetype": "text/x-python",
   "name": "python",
   "nbconvert_exporter": "python",
   "pygments_lexer": "ipython3",
   "version": "3.8.12"
  },
  "widgets": {
   "application/vnd.jupyter.widget-state+json": {
    "state": {},
    "version_major": 2,
    "version_minor": 0
   }
  }
 },
 "nbformat": 4,
 "nbformat_minor": 5
}
